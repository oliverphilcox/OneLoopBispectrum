{
 "cells": [
  {
   "cell_type": "markdown",
   "metadata": {},
   "source": [
    "## Bispectrum Interpolation Routines\n",
    "This notebook contains example code for reading in the one-loop bispectrum templates (in HDF5 form, as computed by the Output.wls script), and producing full estimates of the one-loop bispectrum for any combination of parameters. The precomputed templates are combined together using linear interpolation, giving a function that can compute the bispectrum for arbitrary $k_i$ and $\\mu_i$ (subject to the triangle conditions). "
   ]
  },
  {
   "cell_type": "code",
   "execution_count": 1,
   "metadata": {},
   "outputs": [
    {
     "name": "stdout",
     "output_type": "stream",
     "text": [
      "Populating the interactive namespace from numpy and matplotlib\n"
     ]
    }
   ],
   "source": [
    "%pylab inline\n",
    "import h5py\n",
    "from scipy.interpolate import RegularGridInterpolator\n",
    "from scipy.special import p_roots\n",
    "import time\n",
    "\n",
    "# File string\n",
    "string = 'ptc'\n",
    "# Input directory\n",
    "indir = '/Users/ophilcox/Desktop/OneLoopBispectrum/output'"
   ]
  },
  {
   "cell_type": "markdown",
   "metadata": {},
   "source": [
    "### 1) Load the bispectrum templates"
   ]
  },
  {
   "cell_type": "code",
   "execution_count": 2,
   "metadata": {},
   "outputs": [
    {
     "name": "stdout",
     "output_type": "stream",
     "text": [
      "Loading full templates\n"
     ]
    }
   ],
   "source": [
    "## Load hdf5 file\n",
    "print(\"Loading full templates\")\n",
    "infile = h5py.File(indir+'/'+string+'_full.h5','r') \n",
    "\n",
    "kk = np.asarray(infile['k'])\n",
    "xx = np.asarray(infile['x'])\n",
    "yy = np.asarray(infile['y'])\n",
    "\n",
    "b211 = np.asarray(infile['211'])\n",
    "b222 = np.asarray(infile['222'])\n",
    "b321I = np.asarray(infile['321I'])\n",
    "b321II = np.asarray(infile['321II'])\n",
    "b411 = np.asarray(infile['411'])\n",
    "\n",
    "## Define mesh of grid points\n",
    "kt = np.meshgrid(kk,xx)[0].T.ravel()\n",
    "xt = np.meshgrid(kk,xx)[1].T.ravel()\n",
    "yt = np.meshgrid(kk,yy)[1].T.ravel()\n",
    "kxy = np.vstack([kt,xt,yt]).T\n",
    "lkxy = kxy.copy()\n",
    "lkxy[:,0] = np.log(kxy[:,0])\n",
    "lkxy[:,1:] = np.sqrt(kxy[:,1:])"
   ]
  },
  {
   "cell_type": "code",
   "execution_count": 3,
   "metadata": {},
   "outputs": [
    {
     "name": "stdout",
     "output_type": "stream",
     "text": [
      "Loading flat templates\n"
     ]
    }
   ],
   "source": [
    "## Load hdf5 file\n",
    "print(\"Loading flat templates\")\n",
    "\n",
    "infileF = h5py.File(indir+'/'+string+'_flat.h5','r') \n",
    "\n",
    "kkF = np.asarray(infileF['k'])\n",
    "xxF = np.asarray(infileF['x'])\n",
    "yyF = np.asarray(infileF['y'])\n",
    "xxF[0] = 0. # for array regularity\n",
    "\n",
    "# Create full arrays with flattened spectra (for interpolation)\n",
    "b211F = np.zeros((47,len(xxF),len(kkF),len(b211[0,0,0])))\n",
    "b222F = np.zeros((47,len(xxF),len(kkF),len(b222[0,0,0])))\n",
    "b321IF = np.zeros((47,len(xxF),len(kkF),len(b321I[0,0,0])))\n",
    "b321IIF = np.zeros((47,len(xxF),len(kkF),len(b321II[0,0,0])))\n",
    "b411F = np.zeros((47,len(xxF),len(kkF),len(b411[0,0,0])))\n",
    "newInd = -1\n",
    "for i in range(13):\n",
    "    for j in range(11):\n",
    "        if (i+j)%2==1: continue\n",
    "        if (i+j)>12: continue\n",
    "        newInd +=1\n",
    "        if j!=0: continue\n",
    "        b211F[newInd] = infileF['211'][i//2]\n",
    "        b222F[newInd] = infileF['222'][i//2]\n",
    "        b321IF[newInd] = infileF['321I'][i//2]\n",
    "        b321IIF[newInd] = infileF['321II'][i//2]\n",
    "        b411F[newInd] = infileF['411'][i//2]\n",
    "\n",
    "## Define mesh of grid points\n",
    "ktF = np.meshgrid(kkF,xxF)[0].T.ravel()\n",
    "xtF = np.meshgrid(kkF,xxF)[1].T.ravel()\n",
    "ytF = np.meshgrid(kkF,yyF)[1].T.ravel()\n",
    "kxyF = np.vstack([ktF,xtF,ytF]).T\n",
    "lkxyF = kxyF.copy()\n",
    "lkxyF[:,0] = np.log(kxyF[:,0])\n",
    "lkxyF[:,1:] = np.sqrt(kxyF[:,1:])"
   ]
  },
  {
   "cell_type": "code",
   "execution_count": 4,
   "metadata": {},
   "outputs": [
    {
     "name": "stdout",
     "output_type": "stream",
     "text": [
      "Combine interpolation tables\n"
     ]
    }
   ],
   "source": [
    "print(\"Combine interpolation tables\")\n",
    "## Combine two interpolation tables together\n",
    "b211t = np.concatenate([b211,b211F],axis=1)\n",
    "b222t = np.concatenate([b222,b222F],axis=1)\n",
    "b321It = np.concatenate([b321I,b321IF],axis=1)\n",
    "b321IIt = np.concatenate([b321II,b321IIF],axis=1)\n",
    "b411t = np.concatenate([b411,b411F],axis=1)\n",
    "\n",
    "xxt = np.concatenate([xx,xxF])\n",
    "yyt = np.concatenate([yy,yyF])\n",
    "kkt = kk.copy()\n",
    "ktt = np.meshgrid(kkt,xxt)[0].T.ravel()\n",
    "xtt = np.meshgrid(kkt,xxt)[1].T.ravel()\n",
    "ytt = np.meshgrid(kkt,yyt)[1].T.ravel()\n",
    "kxyt = np.vstack([ktt,xtt,ytt]).T\n",
    "\n",
    "# Transform to log(k), sqrt(x), sqrt(y) for regular interpolation\n",
    "lkxyt = kxyt.copy()\n",
    "lkxyt[:,0] = np.log(kxyt[:,0])\n",
    "lkxyt[:,1:] = np.sqrt(kxyt[:,1:])"
   ]
  },
  {
   "cell_type": "markdown",
   "metadata": {},
   "source": [
    "### 2) Create Interpolators"
   ]
  },
  {
   "cell_type": "markdown",
   "metadata": {},
   "source": [
    "- We use linear interpolation on a regular 3D grid of log(k), sqrt(x), sqrt(y)\n",
    "- Note that this includes corners of the 3D grid we don't care about, i.e. those far from obeying the triangle conditions.\n",
    "- NB: The interpolator below with ```method='nearest'``` is faster still, but has the caveat that it only does nearest-neighbor interpolation. ```method='linear'``` is usually a safer option."
   ]
  },
  {
   "cell_type": "code",
   "execution_count": 5,
   "metadata": {},
   "outputs": [],
   "source": [
    "## Define regular grid of points\n",
    "kAll = np.unique(kkt)\n",
    "xAll = np.unique(xxt)\n",
    "yAll = np.unique(yyt)\n",
    "\n",
    "def Interpolate3Dreg(bkTable,method='linear'):\n",
    "    \"\"\"Reconstruct full 3D interpolation table for all biases and angles simultaneously. \n",
    "    If this is used for vector k1,k2,k3, they should be *ordered* such that k1 > k2 > k3. This will *not* be checked at runtime.\n",
    "    This function will return NaNs if the inputs do not obey the triangle conditions.\n",
    "    \"\"\"\n",
    "\n",
    "    # Construct interpolation table\n",
    "    flatTab = np.asarray([[np.ravel(bkTable[i,:,:,j].T) for j in range(len(bkTable[0,0,0]))] for i in range(len(bkTable))])\n",
    "    vals = np.zeros((len(kAll),len(xAll),len(yAll),len(flatTab),len(flatTab[0])))\n",
    "    \n",
    "    for i in range(len(flatTab[0,0])):\n",
    "        ind1 = np.where(kAll==kxyt[i,0])\n",
    "        ind2 = np.where(xAll==kxyt[i,1])\n",
    "        ind3 = np.where(yAll==kxyt[i,2])\n",
    "        vals[ind1,ind2,ind3] = flatTab[:,:,i]\n",
    "\n",
    "    # Define regular interpolator\n",
    "    rg = RegularGridInterpolator((np.log(kAll),np.sqrt(xAll),np.sqrt(yAll)),vals,method=method,bounds_error=False)\n",
    "\n",
    "    # Define output function\n",
    "    def BkInt(k1,k2,k3):\n",
    "        if type(k1)==np.ndarray:\n",
    "            # Note no bounds-checking here!\n",
    "            k = k1\n",
    "            x = (k3/k1)**2;\n",
    "            y = (k2/k1)**2;\n",
    "            return rg((np.log(k), np.sqrt(x), np.sqrt(y)))\n",
    "        else:\n",
    "            k123 = np.sort([k1,k2,k3])\n",
    "            k = k123[2]\n",
    "            x = (k123[0]/k)**2;\n",
    "            y = (k123[1]/k)**2;\n",
    "            return rg((np.log(k), np.sqrt(x), np.sqrt(y)))\n",
    "    return BkInt\n",
    "\n",
    "## Define interpolators\n",
    "# These return a grid of all biases + mu coefficients simultaneously\n",
    "b211int = Interpolate3Dreg(b211t)\n",
    "b222int = Interpolate3Dreg(b222t)\n",
    "b321Iint = Interpolate3Dreg(b321It)\n",
    "b321IIint = Interpolate3Dreg(b321IIt)\n",
    "b411int = Interpolate3Dreg(b411t)"
   ]
  },
  {
   "cell_type": "markdown",
   "metadata": {},
   "source": [
    "The output interpolators return arrays of bispectrum templates containing all bias parameters and all 47 choices of $\\mu,\\chi$ components. To use them, we must specify the values of $\\{k_1,k_2,k_3\\}$ (as scalars or arrays). For example:"
   ]
  },
  {
   "cell_type": "code",
   "execution_count": 6,
   "metadata": {},
   "outputs": [
    {
     "name": "stdout",
     "output_type": "stream",
     "text": [
      "Dimensions:  (47, 50)\n"
     ]
    }
   ],
   "source": [
    "k1 = 0.4\n",
    "k2 = 0.3\n",
    "k3 = 0.2\n",
    "b222_templates = b222int(k1,k2,k3)\n",
    "print(\"Dimensions: \",b222_templates.shape)"
   ]
  },
  {
   "cell_type": "markdown",
   "metadata": {},
   "source": [
    "### 3) Define Bias Parameters\n",
    "- Here, we use the coevolution predictions for bias parameters. \n",
    "- These are not quite correct in practice, but are useful for the sake of illustration.\n",
    "- We form the bias parameters into arrays which can be dotted with the bispectrum outputs"
   ]
  },
  {
   "cell_type": "code",
   "execution_count": 7,
   "metadata": {},
   "outputs": [
    {
     "name": "stdout",
     "output_type": "stream",
     "text": [
      "Number of B211 bias coefficients:  14\n",
      "Number of B222 bias coefficients:  50\n",
      "Number of B321-I bias coefficients:  86\n",
      "Number of B321-II bias coefficients:  47\n",
      "Number of B411 bias coefficients:  70\n"
     ]
    }
   ],
   "source": [
    "# Coevolution biases with only b1L and b2L non-zero \n",
    "b1L = 1; # Lagrangian b1\n",
    "b2L = 0.3; # Lagrangian b2\n",
    "f = 0.7; # Growth factor\n",
    "\n",
    "# Coevolution prediction\n",
    "b1 = b1L + 1;\n",
    "b2 = b2L;\n",
    "b3 = -3*b2;\n",
    "g2 =  -(2/7)*b1L;\n",
    "g3 = -(1/9)*b1L - g2;\n",
    "g21 = 2/21*b1L + 6/7*g2;\n",
    "g2x = -(2/7)*b2;\n",
    "g22 = -(6/539)*b1L - 9/49*g2;\n",
    "g21x = 2/21*b2 + 2/7*g2x;\n",
    "g31 = -(4/11)*b1L - 6*g2;\n",
    "g211 = 5/77*b1L + 15/14*g2 + g21 - 9/7*g3;\n",
    "\n",
    "# Define bias lists\n",
    "biasListB211 = [b1**3,b1**2*b2,b1**2*f,b1**3*f,b1*b2*f,b1*f**2,b1**2*f**2,b2*f**2,f**3,b1*f**3,f**4,b1**2*g2,b1*f*g2,f**2*g2]\n",
    "biasListB222 = [b1**3,b1**2*b2,b1*b2**2,b2**3,b1**2*f,b1**3*f,b1*b2*f,b1**2*b2*f,b2**2*f,b1*b2**2*f,b1*f**2,b1**2*f**2,b1**3*f**2,b2*f**2,\n",
    "                b1*b2*f**2,b1**2*b2*f**2,b2**2*f**2,f**3,b1*f**3,b1**2*f**3,b1**3*f**3,b2*f**3,b1*b2*f**3,f**4,b1*f**4,b1**2*f**4,b2*f**4,f**5,\n",
    "                b1*f**5,f**6,b1**2*g2,b1*b2*g2,b2**2*g2,b1*f*g2,b1**2*f*g2,b2*f*g2,b1*b2*f*g2,f**2*g2,b1*f**2*g2,b1**2*f**2*g2,b2*f**2*g2,\n",
    "                f**3*g2,b1*f**3*g2,f**4*g2,b1*g2**2,b2*g2**2,f*g2**2,b1*f*g2**2,f**2*g2**2,g2**3]\n",
    "biasListB321I = [b1**3,b1**2*b2,b1*b2**2,b1**2*b3,b1*b2*b3,b1**2*f,b1**3*f,b1*b2*f,b1**2*b2*f,b2**2*f,b1*b2**2*f,b1*b3*f,b1**2*b3*f,b2*b3*f,\n",
    "                 b1*f**2,b1**2*f**2,b1**3*f**2,b2*f**2,b1*b2*f**2,b1**2*b2*f**2,b2**2*f**2,b3*f**2,b1*b3*f**2,f**3,b1*f**3,b1**2*f**3,b1**3*f**3,\n",
    "                 b2*f**3,b1*b2*f**3,b3*f**3,f**4,b1*f**4,b1**2*f**4,b2*f**4,f**5,b1*f**5,f**6,b1**2*g2,b1*b2*g2,b1*b3*g2,b1*f*g2,b1**2*f*g2,\n",
    "                 b2*f*g2,b1*b2*f*g2,b3*f*g2,f**2*g2,b1*f**2*g2,b1**2*f**2*g2,b2*f**2*g2,f**3*g2,b1*f**3*g2,f**4*g2,b1*g2**2,f*g2**2,b1*f*g2**2,\n",
    "                 f**2*g2**2,b1**2*g21,b1*b2*g21,b1*f*g21,b1**2*f*g21,b2*f*g21,f**2*g21,b1*f**2*g21,f**3*g21,b1*g2*g21,f*g2*g21,b1**2*g2x,\n",
    "                 b1*b2*g2x,b1*f*g2x,b1**2*f*g2x,b2*f*g2x,f**2*g2x,b1*f**2*g2x,f**3*g2x,b1*g2*g2x,f*g2*g2x,b1**2*g3,b1*b2*g3,b1*f*g3,b1**2*f*g3,\n",
    "                 b2*f*g3,f**2*g3,b1*f**2*g3,f**3*g3,b1*g2*g3,f*g2*g3]\n",
    "biasListB321II = [b1**3,b1**2*b2,b1**2*f,b1**3*f,b1*b2*f,b1*f**2,b1**2*f**2,b1**3*f**2,b2*f**2,b1*b2*f**2,b1**2*b2*f**2,f**3,b1*f**3,\n",
    "                  b1**2*f**3,b1**3*f**3,b2*f**3,b1*b2*f**3,f**4,b1*f**4,b1**2*f**4,b2*f**4,f**5,b1*f**5,f**6,b1**2*g2,b1*b2*g2,b1*f*g2,b1**2*f*g2,\n",
    "                  b2*f*g2,f**2*g2,b1*f**2*g2,b1**2*f**2*g2,f**3*g2,b1*f**3*g2,f**4*g2,b1*g2**2,f*g2**2,b1**2*g21,b1*b2*g21,b1*f*g21,b1**2*f*g21,\n",
    "                  b2*f*g21,f**2*g21,b1*f**2*g21,f**3*g21,b1*g2*g21,f*g2*g21]\n",
    "biasListB411 = [b1**3,b1**2*b2,b1**2*b3,b1**2*f,b1**3*f,b1*b2*f,b1**2*b2*f,b1*b3*f,b1**2*b3*f,b1*f**2,b1**2*f**2,b1**3*f**2,b2*f**2,\n",
    "                b1*b2*f**2,b1**2*b2*f**2,b3*f**2,b1*b3*f**2,f**3,b1*f**3,b1**2*f**3,b1**3*f**3,b2*f**3,b1*b2*f**3,b3*f**3,f**4,b1*f**4,\n",
    "                b1**2*f**4,b2*f**4,f**5,b1*f**5,f**6,b1**2*g2,b1*f*g2,b1**2*f*g2,f**2*g2,b1*f**2*g2,b1**2*f**2*g2,f**3*g2,b1*f**3*g2,f**4*g2,\n",
    "                b1**2*g21,b1*f*g21,b1**2*f*g21,f**2*g21,b1*f**2*g21,f**3*g21,b1**2*g211,b1*f*g211,f**2*g211,b1**2*g21x,b1*f*g21x,f**2*g21x,\n",
    "                b1**2*g22,b1*f*g22,f**2*g22,b1**2*g2x,b1*f*g2x,b1**2*f*g2x,f**2*g2x,b1*f**2*g2x,f**3*g2x,b1**2*g3,b1*f*g3,b1**2*f*g3,f**2*g3,\n",
    "                b1*f**2*g3,f**3*g3,b1**2*g31,b1*f*g31,f**2*g31]\n",
    "print(\"Number of B211 bias coefficients: \",len(biasListB211))\n",
    "print(\"Number of B222 bias coefficients: \",len(biasListB222))\n",
    "print(\"Number of B321-I bias coefficients: \",len(biasListB321I))\n",
    "print(\"Number of B321-II bias coefficients: \",len(biasListB321II))\n",
    "print(\"Number of B411 bias coefficients: \",len(biasListB411))"
   ]
  },
  {
   "cell_type": "markdown",
   "metadata": {},
   "source": [
    "### 4) Output Interpolated Bispectra"
   ]
  },
  {
   "cell_type": "markdown",
   "metadata": {},
   "source": [
    "To produce the bispectrum for a specific choice of biases and angles, we call the above interpolators and dot the results with an array of angular coefficients and the above bias vectors. Here, we'll produce results for fixed $k_2/k_1$ and $k_3/k_1$, but for a range of values of $k_1$."
   ]
  },
  {
   "cell_type": "code",
   "execution_count": 8,
   "metadata": {},
   "outputs": [
    {
     "name": "stdout",
     "output_type": "stream",
     "text": [
      "Interpolation time: 0.83s\n"
     ]
    }
   ],
   "source": [
    "# Define some coordinates\n",
    "k_arr = np.geomspace(0.005,0.5,1000)\n",
    "x1 = 0.3;\n",
    "y1 = 0.6;\n",
    "mu = 0.3;\n",
    "cosphi = 0.9;\n",
    "\n",
    "# Chek triangle conditions\n",
    "assert np.sqrt(x1)+np.sqrt(y1)>1, \"Triangle conditions are not satisfied!\"\n",
    "\n",
    "def muVecFunc(mu1,cosphi):\n",
    "    \"\"\"Create array of (mu, chi) angular coordinates, where chi = Sqrt[1-mu^2]Cos[phi]\"\"\"\n",
    "    out = []\n",
    "    for i in range(13):\n",
    "        for j in range(11):\n",
    "            if i+j>12: continue\n",
    "            if (i+j)%2==1: continue\n",
    "            out.append(mu1**i*(np.sqrt(1.-mu1**2.)*cosphi)**j)\n",
    "    return np.asarray(out)\n",
    "\n",
    "# Compute the array of mu1,mu2 powers\n",
    "muVec = muVecFunc(mu,np.sqrt(1.-mu**2.)*cosphi)\n",
    "\n",
    "# Compute the bispectra at the given coordinates for all biases and angles simultaneously\n",
    "# Note that we dot this with the angular components and the list of bias parameters\n",
    "# For Python2 users, the @ operator should be replaced by np.matmul\n",
    "init = time.time()\n",
    "b211_arr = muVec@b211int(k_arr,sqrt(y1)*k_arr,sqrt(x1)*k_arr)@biasListB211\n",
    "b222_arr = muVec@b222int(k_arr,sqrt(y1)*k_arr,sqrt(x1)*k_arr)@biasListB222\n",
    "b321I_arr = muVec@b321Iint(k_arr,sqrt(y1)*k_arr,sqrt(x1)*k_arr)@biasListB321I\n",
    "b321II_arr = muVec@b321IIint(k_arr,sqrt(y1)*k_arr,sqrt(x1)*k_arr)@biasListB321II\n",
    "b411_arr = muVec@b411int(k_arr,sqrt(y1)*k_arr,sqrt(x1)*k_arr)@biasListB411\n",
    "print(\"Interpolation time: %.2fs\"%(time.time()-init))"
   ]
  },
  {
   "cell_type": "markdown",
   "metadata": {},
   "source": [
    "Let's plot the resulting spectra:"
   ]
  },
  {
   "cell_type": "code",
   "execution_count": 9,
   "metadata": {},
   "outputs": [
    {
     "data": {
      "image/png": "[encoded data removed]",
      "text/plain": [
       "<Figure size 576x432 with 1 Axes>"
      ]
     },
     "metadata": {
      "needs_background": "light"
     },
     "output_type": "display_data"
    }
   ],
   "source": [
    "### Plot the output\n",
    "plt.figure(figsize=(8,6))\n",
    "plt.loglog(k_arr,np.abs(b211_arr),label=r\"$B_{211}$\")\n",
    "plt.loglog(k_arr,np.abs(b222_arr),label=r\"$B_{222}$\")\n",
    "plt.loglog(k_arr,np.abs(b321I_arr),label=r\"$B_{321}^I$\")\n",
    "plt.loglog(k_arr,np.abs(b321II_arr),label=r\"$B_{321}^{II}$\")\n",
    "plt.loglog(k_arr,np.abs(b411_arr),label=r\"$B_{411}$\")\n",
    "plt.legend(fontsize=14);\n",
    "plt.xlabel(r'$k$',fontsize=16)\n",
    "plt.ylabel(r'$|B(k_1,k_2,k_3)|$',fontsize=16);\n",
    "plt.title(r'$k_2/k_1 = %.2f, k_3/k_1 = %.2f$'%(np.sqrt(y1),np.sqrt(x1)),fontsize=15);"
   ]
  },
  {
   "cell_type": "markdown",
   "metadata": {},
   "source": [
    "### 5) (Optional) Integrate the bispectrum over finite bins\n",
    "- Here, we perform bin integration over both the radial and angular components of the bispectrum, to obtain the bin-averaged bispectrum monopole. This includes Alcock-Paczynski distortions to the spectra, and, for the one-loop components, is the full form used in the recent one-loop bispectrum analyses (with an externally computed tree-level piece, including additional IR resummation effects)."
   ]
  },
  {
   "cell_type": "markdown",
   "metadata": {},
   "source": [
    "First, we define some preliminary functions."
   ]
  },
  {
   "cell_type": "code",
   "execution_count": 10,
   "metadata": {},
   "outputs": [],
   "source": [
    "# Define Gauss-Legendre integration points\n",
    "n_gauss = 3\n",
    "n_gauss2 = 8\n",
    "[gauss_mu,gauss_w], [gauss_mu2,gauss_w2] = p_roots(n_gauss), p_roots(n_gauss2)\n",
    "k1,k2,k3,mu1,phi = np.meshgrid(gauss_mu,gauss_mu,gauss_mu,gauss_mu2,gauss_mu2, sparse=True, indexing='ij')\n",
    "\n",
    "# Bin width\n",
    "dk = 0.01\n",
    "\n",
    "def reorder_kmu(k1AP,k2AP,k3AP,mu1AP,mu2AP,mu3AP):\n",
    "    \"\"\"Switch k and mu vectors into the ordering with k1 >= k2 >= k3, as needed for the interpolators.\"\"\"\n",
    "    \n",
    "    # Order k vectors\n",
    "    args = np.argsort([k1AP,k2AP,k3AP],axis=0)\n",
    "\n",
    "    # Define ordered set\n",
    "    k1APord = np.zeros_like(k1AP)\n",
    "    k2APord = np.zeros_like(k2AP)\n",
    "    k3APord = np.zeros_like(k3AP)\n",
    "    mu1APord = np.zeros_like(mu1AP)\n",
    "    mu2APord = np.zeros_like(mu2AP)\n",
    "    mu3APord = np.zeros_like(mu3AP)\n",
    "\n",
    "    # biggest k\n",
    "    k1APord[args[2]==0] = k1AP[args[2]==0]\n",
    "    k1APord[args[2]==1] = k2AP[args[2]==1]\n",
    "    k1APord[args[2]==2] = k3AP[args[2]==2]\n",
    "    mu1APord[args[2]==0] = mu1AP[args[2]==0]\n",
    "    mu1APord[args[2]==1] = mu2AP[args[2]==1]\n",
    "    mu1APord[args[2]==2] = mu3AP[args[2]==2]\n",
    "\n",
    "    # middle k\n",
    "    k2APord[args[1]==0] = k1AP[args[1]==0]\n",
    "    k2APord[args[1]==1] = k2AP[args[1]==1]\n",
    "    k2APord[args[1]==2] = k3AP[args[1]==2]\n",
    "    mu2APord[args[1]==0] = mu1AP[args[1]==0]\n",
    "    mu2APord[args[1]==1] = mu2AP[args[1]==1]\n",
    "    mu2APord[args[1]==2] = mu3AP[args[1]==2]\n",
    "\n",
    "    # smallest k\n",
    "    k3APord[args[0]==0] = k1AP[args[0]==0]\n",
    "    k3APord[args[0]==1] = k2AP[args[0]==1]\n",
    "    k3APord[args[0]==2] = k3AP[args[0]==2]\n",
    "    mu3APord[args[0]==0] = mu1AP[args[0]==0]\n",
    "    mu3APord[args[0]==1] = mu2AP[args[0]==1]\n",
    "    mu3APord[args[0]==2] = mu3AP[args[0]==2]\n",
    "    \n",
    "    return k1APord, k2APord, k3APord, mu1APord, mu2APord, mu3APord\n",
    "\n",
    "def bin_integrate(B_matrix):\n",
    "    \"\"\"Integrate a function over k and mu bins via Gauss-Legendre quadrature\"\"\"\n",
    "    Btmp = np.moveaxis(B_matrix,-1,0)\n",
    "    return np.matmul(np.matmul(np.matmul(np.matmul(np.matmul(Btmp,gauss_w2),gauss_w2),gauss_w),gauss_w),gauss_w)/4."
   ]
  },
  {
   "cell_type": "markdown",
   "metadata": {},
   "source": [
    "The following function computes the bin-averaged bispectrum:"
   ]
  },
  {
   "cell_type": "code",
   "execution_count": 11,
   "metadata": {},
   "outputs": [],
   "source": [
    "def binned_bispectrum(kc1,kc2,kc3,apar=1,aperp=1,s8=1):\n",
    "    \"\"\"This computes the bin-averaged bispectrum, given bin-centers at {kc1, kc2, kc3} and Alcock-Paczynski parameters {apar, aperp}.\n",
    "    The s8 parameter allows for rescaling of sigma8, with s8 = (sigma8_true / sigma8_fid).\n",
    "    \n",
    "    The outputs contain the bin-averaged spectra for all possible biases.\"\"\"\n",
    "\n",
    "    # Define bin parameters\n",
    "    ddk1 = dk/2.\n",
    "    ddk2 = dk/2.\n",
    "    ddk3 = dk/2.\n",
    "    kk1 = (kc1+k1*ddk1)\n",
    "    kk2 = (kc2+k2*ddk2)\n",
    "    kk3 = (kc3+k3*ddk3)\n",
    "\n",
    "    # Define mu1, mu2, mu3 angles\n",
    "    xxfunc = (kk3**2.-kk1**2.-kk2**2.)/(2.*kk1*kk2)\n",
    "    yyfunc = np.sqrt(np.abs(1.-xxfunc**2.))\n",
    "    mu2 = xxfunc*mu1 - np.sqrt(1.-mu1**2.)*yyfunc*np.cos(phi*2.*np.pi)\n",
    "    mu3 = -(kk2/kk3)*mu2-(kk1/kk3)*mu1\n",
    "\n",
    "    # Coordinate distortion on mu\n",
    "    nnu = lambda mu: mu/apar/(np.sqrt(np.abs(mu**2./apar**2. + (1-mu**2.)/aperp**2.)))\n",
    "    nnu1, nnu2, nnu3 = nnu(mu1), nnu(mu2), nnu(mu3)\n",
    "\n",
    "    # Coordinate distortion on length\n",
    "    qq = lambda mu: np.sqrt(np.abs(mu**2/apar**2 + (1.-mu**2)/aperp**2))\n",
    "    qq1, qq2, qq3 = qq(mu1), qq(mu2), qq(mu3)\n",
    "\n",
    "    ## Define new angles\n",
    "    shape = np.ones((n_gauss,n_gauss,n_gauss,n_gauss2,n_gauss2))\n",
    "    k1AP = (kk1*qq1)*shape\n",
    "    k2AP = (kk2*qq2)*shape\n",
    "    k3AP = (kk3*qq3)*shape\n",
    "    mu1AP = nnu1*shape\n",
    "    mu2AP = nnu2*shape\n",
    "    mu3AP = nnu3*shape\n",
    "    \n",
    "    # Reorder vectors to ensure k1 >= k2 >= k3\n",
    "    k1APord, k2APord, k3APord, mu1APord, mu2APord, mu3APord = reorder_kmu(k1AP,k2AP,k3AP,mu1AP,mu2AP,mu3AP)\n",
    "    \n",
    "    # Define cosphi angle\n",
    "    cc = (k3APord**2.-k1APord**2.-k2APord**2.)/(2.*k1APord*k2APord)\n",
    "    ss = np.sqrt(np.abs(1.-cc**2.)) # adding abs to avoid boundary errors!\n",
    "    chiAPord = (mu1APord*cc-mu2APord)/(ss+1e-12)\n",
    "    \n",
    "    # Define mu array\n",
    "    muVec = np.moveaxis(muVecFunc(mu1APord,chiAPord),0,-1)\n",
    "    # Define volume element\n",
    "    volEl = (kk1*kk2*kk3*ddk1*ddk2*ddk3*shape)[:,:,:,:,:,None]\n",
    "    \n",
    "    # Perform the (vectorized) interpolation, including all angular components and biases\n",
    "    b211matrix = np.sum(muVec[:,:,:,:,:,:,None]*b211int(k1APord,k2APord,k3APord),axis=5)\n",
    "    b222matrix = np.sum(muVec[:,:,:,:,:,:,None]*b222int(k1APord,k2APord,k3APord),axis=5)\n",
    "    b321Imatrix = np.sum(muVec[:,:,:,:,:,:,None]*b321Iint(k1APord,k2APord,k3APord),axis=5)\n",
    "    b321IImatrix = np.sum(muVec[:,:,:,:,:,:,None]*b321IIint(k1APord,k2APord,k3APord),axis=5)\n",
    "    b411matrix = np.sum(muVec[:,:,:,:,:,:,None]*b411int(k1APord,k2APord,k3APord),axis=5)\n",
    "    \n",
    "    # Impose triangle conditions\n",
    "    triangle_conditions = ((np.abs(k1APord-k2APord)<=k3APord)&(k3APord<=(k1APord+k2APord)))[:,:,:,:,:,None]\n",
    "    \n",
    "    b211matrix = np.where(triangle_conditions,b211matrix,0.)\n",
    "    b222matrix = np.where(triangle_conditions,b222matrix,0.)\n",
    "    b321Imatrix = np.where(triangle_conditions,b321Imatrix,0.)\n",
    "    b321IImatrix = np.where(triangle_conditions,b321IImatrix,0.)\n",
    "    b411matrix = np.where(triangle_conditions,b411matrix,0.)\n",
    "\n",
    "    # Define bin volume (using only good triangles)\n",
    "    Nk123 = bin_integrate(volEl*triangle_conditions)\n",
    "    \n",
    "    # Perform bin integration\n",
    "    b211integ = s8**4*bin_integrate(b211matrix*volEl)/Nk123/apar**2./aperp**4\n",
    "    b222integ = s8**6*bin_integrate(b222matrix*volEl)/Nk123/apar**2./aperp**4\n",
    "    b321Iinteg = s8**6*bin_integrate(b321Imatrix*volEl)/Nk123/apar**2./aperp**4\n",
    "    b321IIinteg = s8**6*bin_integrate(b321IImatrix*volEl)/Nk123/apar**2./aperp**4\n",
    "    b411integ = s8**6*bin_integrate(b411matrix*volEl)/Nk123/apar**2./aperp**4\n",
    "\n",
    "    return b211integ, b222integ, b321Iinteg, b321IIinteg, b411integ"
   ]
  },
  {
   "cell_type": "markdown",
   "metadata": {},
   "source": [
    "The output is a set of bin-integrated bispectra for each template configuration ($B_{211}$, $B_{222}$, etc.) and bias. Let's check:"
   ]
  },
  {
   "cell_type": "code",
   "execution_count": 12,
   "metadata": {},
   "outputs": [
    {
     "name": "stdout",
     "output_type": "stream",
     "text": [
      "Bin-integration took 1.399 s\n",
      "B_211 Dimensions:  (14,)\n",
      "B_222 Dimensions:  (50,)\n",
      "B_321-I Dimensions:  (86,)\n",
      "B_321-II Dimensions:  (47,)\n",
      "B_411 Dimensions:  (70,)\n"
     ]
    }
   ],
   "source": [
    "init = time.time()\n",
    "bk_output = binned_bispectrum(0.1,0.2,0.2)\n",
    "print(\"Bin-integration took %.3f s\"%(time.time()-init))\n",
    "print(\"B_211 Dimensions: \",bk_output[0].shape)\n",
    "print(\"B_222 Dimensions: \",bk_output[1].shape)\n",
    "print(\"B_321-I Dimensions: \",bk_output[2].shape)\n",
    "print(\"B_321-II Dimensions: \",bk_output[3].shape)\n",
    "print(\"B_411 Dimensions: \",bk_output[4].shape)"
   ]
  },
  {
   "cell_type": "markdown",
   "metadata": {},
   "source": [
    "We'll compute the bispectrum for all allowed triangles within a certain set of scales. This would be the input for a likelihood evaluation. Note that if Alcock-Paczynski parameters are not varied, the bin-integration only needs to be performed once, since we have not yet fixed the values of the bias parameters."
   ]
  },
  {
   "cell_type": "code",
   "execution_count": 13,
   "metadata": {},
   "outputs": [
    {
     "name": "stdout",
     "output_type": "stream",
     "text": [
      "Using 150 triangles with k_min = 0.015, k_max = 0.105 and delta_k = 0.010\n"
     ]
    }
   ],
   "source": [
    "# Binning parameters\n",
    "kmax = 0.105\n",
    "kmin = 0.015\n",
    "dk=0.01\n",
    "\n",
    "# 1D array of k values\n",
    "k = np.arange(kmin,kmax+dk,dk)\n",
    "k_size = len(k)\n",
    "\n",
    "# Compute array of triangle values\n",
    "k123s = []\n",
    "for i1 in range(k_size):\n",
    "    for i2 in range(i1,k_size):\n",
    "        for i3 in range(i2,k_size):\n",
    "            # Check centers satisfy triangle-conditions!\n",
    "            if k[i3]<=k[i1]+k[i2] and k[i3]>=np.abs(k[i1]-k[i2]):\n",
    "                k123s.append([k[i1],k[i2],k[i3]])\n",
    "                \n",
    "n123 = len(k123s)\n",
    "print(\"Using %d triangles with k_min = %.3f, k_max = %.3f and delta_k = %.3f\"%(n123,kmin,kmax,dk))"
   ]
  },
  {
   "cell_type": "code",
   "execution_count": null,
   "metadata": {
    "scrolled": true
   },
   "outputs": [
    {
     "name": "stdout",
     "output_type": "stream",
     "text": [
      "alpha-parallel: 0.970\n",
      "alpha-perp: 1.040\n",
      "sigma8 ratio: 1.030\n",
      "k-bin 1 of 150: 0.015 0.015 0.015\n",
      "k-bin 2 of 150: 0.015 0.015 0.025\n"
     ]
    },
    {
     "name": "stderr",
     "output_type": "stream",
     "text": [
      "/opt/anaconda3/lib/python3.7/site-packages/ipykernel_launcher.py:18: RuntimeWarning: invalid value encountered in sqrt\n"
     ]
    },
    {
     "name": "stdout",
     "output_type": "stream",
     "text": [
      "k-bin 3 of 150: 0.015 0.025 0.025\n",
      "k-bin 4 of 150: 0.015 0.025 0.035\n",
      "k-bin 5 of 150: 0.015 0.035 0.035\n",
      "k-bin 6 of 150: 0.015 0.035 0.045\n",
      "k-bin 7 of 150: 0.015 0.045 0.045\n",
      "k-bin 8 of 150: 0.015 0.045 0.055\n",
      "k-bin 9 of 150: 0.015 0.055 0.055\n",
      "k-bin 10 of 150: 0.015 0.055 0.065\n",
      "k-bin 11 of 150: 0.015 0.065 0.065\n",
      "k-bin 12 of 150: 0.015 0.065 0.075\n",
      "k-bin 13 of 150: 0.015 0.075 0.075\n",
      "k-bin 14 of 150: 0.015 0.075 0.085\n",
      "k-bin 15 of 150: 0.015 0.085 0.085\n",
      "k-bin 16 of 150: 0.015 0.085 0.095\n",
      "k-bin 17 of 150: 0.015 0.095 0.095\n",
      "k-bin 18 of 150: 0.015 0.095 0.105\n",
      "k-bin 19 of 150: 0.015 0.105 0.105\n",
      "k-bin 20 of 150: 0.025 0.025 0.025\n",
      "k-bin 21 of 150: 0.025 0.025 0.035\n",
      "k-bin 22 of 150: 0.025 0.025 0.045\n",
      "k-bin 23 of 150: 0.025 0.035 0.035\n",
      "k-bin 24 of 150: 0.025 0.035 0.045\n",
      "k-bin 25 of 150: 0.025 0.035 0.055\n",
      "k-bin 26 of 150: 0.025 0.045 0.045\n",
      "k-bin 27 of 150: 0.025 0.045 0.055\n",
      "k-bin 28 of 150: 0.025 0.045 0.065\n",
      "k-bin 29 of 150: 0.025 0.055 0.055\n",
      "k-bin 30 of 150: 0.025 0.055 0.065\n",
      "k-bin 31 of 150: 0.025 0.055 0.075\n",
      "k-bin 32 of 150: 0.025 0.065 0.065\n",
      "k-bin 33 of 150: 0.025 0.065 0.075\n",
      "k-bin 34 of 150: 0.025 0.065 0.085\n",
      "k-bin 35 of 150: 0.025 0.075 0.075\n",
      "k-bin 36 of 150: 0.025 0.075 0.085\n",
      "k-bin 37 of 150: 0.025 0.075 0.095\n",
      "k-bin 38 of 150: 0.025 0.085 0.085\n",
      "k-bin 39 of 150: 0.025 0.085 0.095\n",
      "k-bin 40 of 150: 0.025 0.085 0.105\n",
      "k-bin 41 of 150: 0.025 0.095 0.095\n",
      "k-bin 42 of 150: 0.025 0.095 0.105\n",
      "k-bin 43 of 150: 0.025 0.105 0.105\n",
      "k-bin 44 of 150: 0.035 0.035 0.035\n",
      "k-bin 45 of 150: 0.035 0.035 0.045\n",
      "k-bin 46 of 150: 0.035 0.035 0.055\n",
      "k-bin 47 of 150: 0.035 0.035 0.065\n",
      "k-bin 48 of 150: 0.035 0.045 0.045\n",
      "k-bin 49 of 150: 0.035 0.045 0.055\n",
      "k-bin 50 of 150: 0.035 0.045 0.065\n",
      "k-bin 51 of 150: 0.035 0.045 0.075\n",
      "k-bin 52 of 150: 0.035 0.055 0.055\n",
      "k-bin 53 of 150: 0.035 0.055 0.065\n",
      "k-bin 54 of 150: 0.035 0.055 0.075\n",
      "k-bin 55 of 150: 0.035 0.055 0.085\n",
      "k-bin 56 of 150: 0.035 0.065 0.065\n",
      "k-bin 57 of 150: 0.035 0.065 0.075\n",
      "k-bin 58 of 150: 0.035 0.065 0.085\n",
      "k-bin 59 of 150: 0.035 0.065 0.095\n",
      "k-bin 60 of 150: 0.035 0.075 0.075\n",
      "k-bin 61 of 150: 0.035 0.075 0.085\n",
      "k-bin 62 of 150: 0.035 0.075 0.095\n",
      "k-bin 63 of 150: 0.035 0.075 0.105\n",
      "k-bin 64 of 150: 0.035 0.085 0.085\n",
      "k-bin 65 of 150: 0.035 0.085 0.095\n",
      "k-bin 66 of 150: 0.035 0.085 0.105\n",
      "k-bin 67 of 150: 0.035 0.095 0.095\n",
      "k-bin 68 of 150: 0.035 0.095 0.105\n",
      "k-bin 69 of 150: 0.035 0.105 0.105\n",
      "k-bin 70 of 150: 0.045 0.045 0.045\n",
      "k-bin 71 of 150: 0.045 0.045 0.055\n",
      "k-bin 72 of 150: 0.045 0.045 0.065\n",
      "k-bin 73 of 150: 0.045 0.045 0.075\n",
      "k-bin 74 of 150: 0.045 0.045 0.085\n",
      "k-bin 75 of 150: 0.045 0.055 0.055\n",
      "k-bin 76 of 150: 0.045 0.055 0.065\n",
      "k-bin 77 of 150: 0.045 0.055 0.075\n",
      "k-bin 78 of 150: 0.045 0.055 0.085\n",
      "k-bin 79 of 150: 0.045 0.055 0.095\n",
      "k-bin 80 of 150: 0.045 0.065 0.065\n",
      "k-bin 81 of 150: 0.045 0.065 0.075\n",
      "k-bin 82 of 150: 0.045 0.065 0.085\n",
      "k-bin 83 of 150: 0.045 0.065 0.095\n",
      "k-bin 84 of 150: 0.045 0.065 0.105\n"
     ]
    }
   ],
   "source": [
    "init = time.time()\n",
    "\n",
    "# Create output arrays\n",
    "Bint211 = np.zeros((n123,len(biasListB211)))\n",
    "Bint222 = np.zeros((n123,len(biasListB222)))\n",
    "Bint321I = np.zeros((n123,len(biasListB321I)))\n",
    "Bint321II = np.zeros((n123,len(biasListB321II)))\n",
    "Bint411 = np.zeros((n123,len(biasListB411)))\n",
    "\n",
    "# Define AP parameters and s8\n",
    "apar = 0.97\n",
    "aperp = 1.04\n",
    "s8 = 1.03\n",
    "print(\"alpha-parallel: %.3f\"%apar)\n",
    "print(\"alpha-perp: %.3f\"%aperp)\n",
    "print(\"sigma8 ratio: %.3f\"%s8)\n",
    "\n",
    "for j in range(n123):\n",
    "    \n",
    "    # Define bin centers\n",
    "    kc1,kc2,kc3 = k123s[j]\n",
    "    print(\"k-bin %d of %d: %.3f %.3f %.3f\"%(j+1,n123,kc1,kc2,kc3))\n",
    "    \n",
    "    # Compute the binned bispectrum\n",
    "    bk_output = binned_bispectrum(kc1=kc1,kc2=kc2,kc3=kc3,apar=apar,aperp=aperp)\n",
    "    \n",
    "    # Save output\n",
    "    Bint211[j] = bk_output[0]\n",
    "    Bint222[j] = bk_output[1]\n",
    "    Bint321I[j] = bk_output[2]\n",
    "    Bint321II[j] = bk_output[3]\n",
    "    Bint411[j] = bk_output[4]\n",
    "    \n",
    "print(\"\\nRuntime = %.3f s for %d triangles\"%(time.time()-init,n123))"
   ]
  },
  {
   "cell_type": "markdown",
   "metadata": {},
   "source": [
    "Let's plot the output, specializing to coevolution biases for illustration."
   ]
  },
  {
   "cell_type": "code",
   "execution_count": null,
   "metadata": {},
   "outputs": [],
   "source": [
    "plt.figure(figsize=(14,6))\n",
    "plt.title(\"Bin-averaged bispectra\",fontsize=16)\n",
    "plt.plot(np.abs(Bint211@biasListB211+Bint222@biasListB222+Bint321I@biasListB321I+Bint321II@biasListB321II+Bint411@biasListB411),label='Total',c='k')\n",
    "plt.plot(np.abs(Bint211@biasListB211),label=r'$B_{211}$',c='r')\n",
    "plt.plot(np.abs(Bint222@biasListB222),label=r'$B_{222}$',c='b')\n",
    "plt.plot(np.abs(Bint321I@biasListB321I),label=r'$B_{321}^I$',c='g')\n",
    "plt.plot(np.abs(Bint321II@biasListB321II),label=r'$B_{321}^{II}$',c='y')\n",
    "plt.plot(np.abs(Bint411@biasListB411),label=r'$B_{411}$',c='purple')\n",
    "plt.yscale('log')\n",
    "plt.legend(fontsize=14,bbox_to_anchor=(1.,0.7))\n",
    "plt.xlabel(r'Bin Index',fontsize=15)\n",
    "plt.ylabel(r'$|B_{xyz}(k_1,k_2,k_3)|$',fontsize=17);\n",
    "plt.xlim([0,n123-1])"
   ]
  }
 ],
 "metadata": {
  "kernelspec": {
   "display_name": "Python 3",
   "language": "python",
   "name": "python3"
  },
  "language_info": {
   "codemirror_mode": {
    "name": "ipython",
    "version": 3
   },
   "file_extension": ".py",
   "mimetype": "text/x-python",
   "name": "python",
   "nbconvert_exporter": "python",
   "pygments_lexer": "ipython3",
   "version": "3.7.4"
  }
 },
 "nbformat": 4,
 "nbformat_minor": 2
}
